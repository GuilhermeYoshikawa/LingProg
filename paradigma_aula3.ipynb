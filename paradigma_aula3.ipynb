{
 "cells": [
  {
   "cell_type": "markdown",
   "metadata": {},
   "source": [
    "## 1. Faça um Programa que peça dois números e imprima o maior deles."
   ]
  },
  {
   "cell_type": "code",
   "execution_count": 4,
   "metadata": {},
   "outputs": [
    {
     "name": "stdin",
     "output_type": "stream",
     "text": [
      "Insira um número:  5\n",
      "Insira um número:  3\n"
     ]
    },
    {
     "name": "stdout",
     "output_type": "stream",
     "text": [
      "Maior número: 5\n"
     ]
    }
   ],
   "source": [
    "a = int(input('Insira um número: '))\n",
    "b = int(input('Insira um número: '))\n",
    "\n",
    "if a > b:\n",
    "    print('Maior número: {}'.format(a))\n",
    "else:\n",
    "    print('Maior número: {}'.format(b))"
   ]
  },
  {
   "cell_type": "markdown",
   "metadata": {},
   "source": [
    "## 2. Faça um Programa que verifique se uma letra digitada é vogal ou consoante."
   ]
  },
  {
   "cell_type": "code",
   "execution_count": 12,
   "metadata": {},
   "outputs": [
    {
     "name": "stdin",
     "output_type": "stream",
     "text": [
      "Insira uma letra:  b\n"
     ]
    },
    {
     "name": "stdout",
     "output_type": "stream",
     "text": [
      "A palavra é \"b\" uma consoante.\n"
     ]
    }
   ],
   "source": [
    "vogal = ['a', 'e', 'i', 'o', 'u']\n",
    "\n",
    "a = input('Insira uma letra: ')\n",
    "\n",
    "if a == 'a' or a == 'e' or a == 'i' or a == 'o' or a == 'u':\n",
    "    print('A palavra \"{}\" uma vogal.'.format(a))\n",
    "else:\n",
    "    print('A palavra é \"{}\" uma consoante.'.format(a))"
   ]
  },
  {
   "cell_type": "markdown",
   "metadata": {},
   "source": [
    "## 3. Faça um programa para a leitura de duas notas parciais de um aluno. O programa deve calcular a média alcançada por aluno e apresentar:\n",
    "- A mensagem &quot;Aprovado&quot;, se a média alcançada for maior ou igual a sete;\n",
    "- A mensagem &quot;Reprovado&quot;, se a média for menor do que sete;\n",
    "- A mensagem &quot;Aprovado com Distinção&quot;, se a média for igual a dez."
   ]
  },
  {
   "cell_type": "code",
   "execution_count": 23,
   "metadata": {},
   "outputs": [
    {
     "name": "stdin",
     "output_type": "stream",
     "text": [
      "Insira a primeira nota:  10\n",
      "Insira a segunda nota:  9\n"
     ]
    },
    {
     "name": "stdout",
     "output_type": "stream",
     "text": [
      "Aprovado!\n"
     ]
    }
   ],
   "source": [
    "nota1 = float(input('Insira a primeira nota: '))\n",
    "nota2 = float(input('Insira a segunda nota: '))\n",
    "\n",
    "media = ((nota1 + nota2)/2)\n",
    "\n",
    "if media >= 7.0:\n",
    "    print('Aprovado!')\n",
    "elif media == 10.0:\n",
    "    print('Aprovado com Distinção!')\n",
    "else:\n",
    "    print('Reprovado!')"
   ]
  },
  {
   "cell_type": "markdown",
   "metadata": {},
   "source": [
    "## 4. Faça um Programa que leia três números e mostre-os em ordem decrescente."
   ]
  },
  {
   "cell_type": "code",
   "execution_count": 14,
   "metadata": {},
   "outputs": [
    {
     "name": "stdin",
     "output_type": "stream",
     "text": [
      "Número 1:  1\n",
      "Número 2:  5\n",
      "Número 3:  2\n"
     ]
    },
    {
     "name": "stdout",
     "output_type": "stream",
     "text": [
      "5 2 1\n"
     ]
    }
   ],
   "source": [
    "num1 = int(input('Número 1: '))\n",
    "num2 = int(input('Número 2: '))\n",
    "num3 = int(input('Número 3: '))\n",
    "\n",
    "if num1 > num2 > num3:\n",
    "    print(num1, num2, num3)\n",
    "if num1 > num3 > num2:\n",
    "    print(num1, num3, num2)\n",
    "if num2 > num1 > num3:\n",
    "    print(num2, num1, num3)\n",
    "if num2 > num3 > num1:\n",
    "    print(num2, num3, num1)\n",
    "if num3 > num1 > num2:\n",
    "    print(num3, num1, num2)\n",
    "if num3 > num2 > num1:\n",
    "    print(num3, num2, num1)\n",
    "if num1 == num2 == num3:\n",
    "    print(num1, num2, num3)\n"
   ]
  },
  {
   "cell_type": "markdown",
   "metadata": {},
   "source": [
    "## 5. As Organizações Tabajara resolveram dar um aumento de salário aos seus colaboradores e lhe contrataram para desenvolver o programa que calculará os reajustes. Faça um programa que recebe o salário de um colaborador e o reajuste segundo o seguinte critério, baseado no salário atual:\n",
    "\n",
    "- salários até R$ 280,00 (incluindo) : aumento de 20%\n",
    "\n",
    "- salários entre R$ 280,00 e R$ 700,00 : aumento de 15%\n",
    "\n",
    "- salários entre R$ 700,00 e R$ 1500,00 : aumento de 10%\n",
    "\n",
    "- salários de R$ 1500,00 em diante : aumento de 5% Após o aumento ser realizado, informe na tela:\n",
    "\n",
    "- o salário antes do reajuste;\n",
    "\n",
    "- o percentual de aumento aplicado;\n",
    "\n",
    "- o valor do aumento;\n",
    "\n",
    "- o novo salário, após o aumento."
   ]
  },
  {
   "cell_type": "code",
   "execution_count": 6,
   "metadata": {},
   "outputs": [
    {
     "name": "stdin",
     "output_type": "stream",
     "text": [
      "O valor do salário: R$  500\n"
     ]
    },
    {
     "name": "stdout",
     "output_type": "stream",
     "text": [
      "O percentual de aumento aplicado: 15%\n",
      "O valor do aumento: 150.0\n",
      "O novo salário, após o aumento: R$ 650.0\n"
     ]
    }
   ],
   "source": [
    "salario = float(input('O valor do salário: R$ '))\n",
    "\n",
    "if salario <= 280:\n",
    "    aumento = ((20/100) * salario)\n",
    "    reajuste = (salario + aumento)\n",
    "    print('O percentual de aumento aplicado: 20%')\n",
    "    print('O valor do aumento: R$ {}'.format(aumento))\n",
    "    print('O novo salário, após o aumento: R$ {}'.format(reajuste))\n",
    "if salario >= 280 <= 700:\n",
    "    aumento = ((30/100) * salario)\n",
    "    reajuste = (salario + aumento)\n",
    "    print('O percentual de aumento aplicado: 15%')\n",
    "    print('O valor do aumento: {}'.format(aumento))\n",
    "    print('O novo salário, após o aumento: R$ {}'.format(reajuste))\n",
    "    \n",
    "if salario >= 700 <= 1500:\n",
    "    aumento = ((30/100) * salario)\n",
    "    reajuste = (salario + aumento)\n",
    "    print('O percentual de aumento aplicado: 10%')\n",
    "    print('O valor do aumento: {}'.format(aumento))\n",
    "    print('O novo salário, após o aumento: R$ {}'.format(reajuste))\n",
    "    \n",
    "if salario > 1500:\n",
    "    aumento = ((30/100) * salario)\n",
    "    reajuste = (salario + aumento)\n",
    "    print('O percentual de aumento aplicado: 5%')\n",
    "    print('O valor do aumento: {}'.format(aumento))\n",
    "    print('O novo salário, após o aumento: R$ {}'.format(reajuste))"
   ]
  },
  {
   "cell_type": "markdown",
   "metadata": {},
   "source": [
    "## 6. Faça um Programa que leia um número e exiba o dia correspondente da semana. (1-Domingo, 2- Segunda, etc.), se digitar outro valor deve aparecer valor inválido."
   ]
  },
  {
   "cell_type": "code",
   "execution_count": 3,
   "metadata": {},
   "outputs": [
    {
     "name": "stdin",
     "output_type": "stream",
     "text": [
      "Insira um número:  9\n"
     ]
    },
    {
     "name": "stdout",
     "output_type": "stream",
     "text": [
      "Valor inválido\n"
     ]
    }
   ],
   "source": [
    "num = int(input('Insira um número: '))\n",
    "\n",
    "if num == 1:\n",
    "    print('1 - Domingo')\n",
    "if num == 2:\n",
    "    print('2 - Segunda')\n",
    "if num == 3:\n",
    "    print('3 - Terça')\n",
    "if num == 4:\n",
    "    print('4 - Quarta')\n",
    "if num == 5:\n",
    "    print('5 - Quinta')\n",
    "if num == 6:\n",
    "    print('6 - Sexta')\n",
    "if num == 7:\n",
    "    print('7 - Sabádo')\n",
    "if num > 7:\n",
    "    print('Valor inválido')"
   ]
  },
  {
   "cell_type": "markdown",
   "metadata": {},
   "source": [
    "## 7. Faça um programa que lê as duas notas parciais obtidas por um aluno numa disciplina ao longo de um semestre, e calcule a sua média. A atribuição de conceitos obedece à tabela abaixo: Média de Aproveitamento Conceito\n",
    "\n",
    "Entre 9.0 e 10.0 A\n",
    "\n",
    "Entre 7.5 e 9.0 B\n",
    "\n",
    "Entre 6.0 e 7.5 C\n",
    "\n",
    "Entre 4.0 e 6.0 D\n",
    "\n",
    "Entre 4.0 e zero E\n",
    "\n",
    "O algoritmo deve mostrar na tela as notas, a média, o conceito correspondente e a mensagem “APROVADO” se o conceito for A, B ou C ou “REPROVADO” se o conceito for D ou E."
   ]
  },
  {
   "cell_type": "code",
   "execution_count": 3,
   "metadata": {},
   "outputs": [
    {
     "name": "stdin",
     "output_type": "stream",
     "text": [
      "Primeira nota:  9\n",
      "Segunda nota:  10\n"
     ]
    },
    {
     "name": "stdout",
     "output_type": "stream",
     "text": [
      "Média: 9.5\n",
      "Aprovado = A\n",
     ]
    }
   ],
   "source": [
    "nota1 = float(input('Primeira nota: '))\n",
    "nota2 = float(input('Segunda nota: '))\n",
    "\n",
    "media = ((nota1 + nota2) / 2)\n",
    "print('Média: {}'.format(media))\n",
    "\n",
    "if media >= 9.0 <= 10.0:\n",
    "    print('Aprovado = A')\n",
    "if media >= 7.5 < 9.0:\n",
    "    print('Aprovado = B')\n",
    "if media >= 6.0 < 7.5:\n",
    "    print('Aprovado = C')\n",
    "if media >= 4.0 < 6.0:\n",
    "    print('Reprovado = D')\n",
    "if media < 4.0:\n",
    "    print('Reprovado = E')"
   ]
  },
  {
   "cell_type": "markdown",
   "metadata": {},
   "source": [
    "## 8. Faça um Programa que peça os 3 lados de um triângulo. O programa deverá informar se os valores podem ser um triângulo. Indique, caso os lados formem um triângulo, se o mesmo é: equilátero, isósceles ou escaleno. Dicas:\n",
    "\n",
    "- Três lados formam um triângulo quando a soma de quaisquer dois lados for maior que o terceiro;\n",
    "\n",
    "- Triângulo Equilátero: três lados iguais;\n",
    "\n",
    "- Triângulo Isósceles: quaisquer dois lados iguais;\n",
    "\n",
    "- Triângulo Escaleno: três lados diferentes;"
   ]
  },
  {
   "cell_type": "code",
   "execution_count": 2,
   "metadata": {},
   "outputs": [
    {
     "name": "stdin",
     "output_type": "stream",
     "text": [
      "Insira o lado do triângulo:  1\n",
      "Insira outro lado do triângulo:  0\n",
      "Insira o última lado do triângulo:  0\n"
     ]
    },
    {
     "name": "stdout",
     "output_type": "stream",
     "text": [
      "Não pode ser um triangulo\n"
     ]
    }
   ],
   "source": [
    "l1 = int(input('Insira o lado do triângulo: '))\n",
    "l2 = int(input('Insira outro lado do triângulo: '))\n",
    "l3 = int(input('Insira o última lado do triângulo: '))\n",
    "\n",
    "if l1 > (l2 + l3) or l2 > (l1 + l3) or l3 > (l1 + l2):\n",
    "    print('Não pode ser um triangulo')\n",
    "elif l1 == l2 == l3:\n",
    "    print('Triâgulo Equilatero')\n",
    "elif l1 == l2 or l1 == l3 or l2 == l3:\n",
    "    print('Triâgulo Isósceles')\n",
    "else:\n",
    "    print('Triâgulo Escaleno')"
   ]
  },
  {
   "cell_type": "markdown",
   "metadata": {},
   "source": [
    "## 9. Faça um programa que calcule as raízes de uma equação do segundo grau, na forma ax2 + bx + c. O programa deverá pedir os valores de a, b e c e fazer as consistências, informando ao usuário nas seguintes situações:\n",
    "\n",
    "- Se o usuário informar o valor de A igual a zero, a equação não é do segundo grau e o programa não deve fazer pedir os demais valores, sendo encerrado;\n",
    "\n",
    "- Se o delta calculado for negativo, a equação não possui raizes reais. Informe ao usuário e encerre o programa;\n",
    "\n",
    "- Se o delta calculado for igual a zero a equação possui apenas uma raiz real; informe-a ao usuário;\n",
    "\n",
    "- Se o delta for positivo, a equação possui duas raiz reais; informe-as ao usuário;"
   ]
  },
  {
   "cell_type": "code",
   "execution_count": 10,
   "metadata": {},
   "outputs": [
    {
     "name": "stdin",
     "output_type": "stream",
     "text": [
      "Insira o valor de A:  1\n",
      "Insira o valor de B:  0\n",
      "Insira o valor de C:  1\n"
     ]
    },
    {
     "name": "stdout",
     "output_type": "stream",
     "text": [
      "A equação não possui raízes reais.\n"
     ]
    }
   ],
   "source": [
    "import math\n",
    "\n",
    "a = int(input('Insira o valor de A: ' ))\n",
    "\n",
    "if(a == 0):\n",
    "    print('A equação não é do segundo grau.')\n",
    "else:\n",
    "    b = int(input('Insira o valor de B: ' ))\n",
    "    c = int(input('Insira o valor de C: ' ))\n",
    "    delta = b * b - (4 * a * c)\n",
    "\n",
    "if delta < 0:\n",
    "    print('A equação não possui raízes reais.')\n",
    "elif delta == 0:\n",
    "    raiz = -b / (2 * a)\n",
    "    print('Delta = 0 , raiz real = ', raiz)\n",
    "else:\n",
    "    r1 = (-b + math.sqrt(delta) ) / (2 * a)\n",
    "    r2 = (-b - math.sqrt(delta) ) / (2 * a)\n",
    "    print('Raizes: ', r1, ' e ', r2)"
   ]
  },
  {
   "cell_type": "markdown",
   "metadata": {},
   "source": [
    "## 10. Faça um Programa para um caixa eletrônico. O programa deverá perguntar ao usuário a valor do saque e depois informar quantas notas de cada valor serão fornecidas. As notas disponíveis serão as de 1, 5, 10, 50 e 100 reais. O valor mínimo é de 10 reais e o máximo de 600 reais. O programa não deve se preocupar com a quantidade de notas existentes na máquina.\n",
    "\n",
    "- Exemplo 1: Para sacar a quantia de 256 reais, o programa fornece duas notas de 100, uma nota de 50, uma nota de 5 e uma nota de 1;\n",
    "\n",
    "- Exemplo 2: Para sacar a quantia de 399 reais, o programa fornece três notas de 100, uma nota de 50, quatro notas de 10, uma nota de 5 e quatro notas de 1."
   ]
  },
  {
   "cell_type": "code",
   "execution_count": 12,
   "metadata": {},
   "outputs": [
    {
     "name": "stdin",
     "output_type": "stream",
     "text": [
      "Valor de saque: R$  256\n"
     ]
    },
    {
     "name": "stdout",
     "output_type": "stream",
     "text": [
      "Notas R$100,00 =  2\n",
      "Notas R$ 50,00 =  1\n",
      "Notas R$ 10,00 =  0\n",
      "Notas R$  5,00 =  1\n",
      "R$  1,00 =  1\n"
     ]
    }
   ],
   "source": [
    "saque = int(input('Valor de saque: R$ '))\n",
    "\n",
    "nota100 = int(saque / 100)\n",
    "saque = saque % 100\n",
    "    \n",
    "nota50 = int(saque/50)\n",
    "saque = saque % 50\n",
    "\n",
    "nota10 = int(saque/10)\n",
    "saque = saque % 10\n",
    "\n",
    "nota5 = int(saque/5)\n",
    "saque = saque % 5\n",
    "\n",
    "nota1 = saque\n",
    "    \n",
    "print('Notas R$100,00 = ', nota100)\n",
    "print('Notas R$ 50,00 = ', nota50)\n",
    "print('Notas R$ 10,00 = ', nota10)\n",
    "print('Notas R$  5,00 = ', nota5)\n",
    "print('R$  1,00 = ', nota1)"
   ]
  },
  {
   "cell_type": "markdown",
   "metadata": {},
   "source": [
    "## 11. Faça um programa que faça 5 perguntas para uma pessoa sobre um crime. As perguntas são:\n",
    "\n",
    "- Telefonou para a vítima?\n",
    "\n",
    "- Esteve no local do crime?\n",
    "\n",
    "- Mora perto da vítima?\n",
    "\n",
    "- Devia para a vítima?\n",
    "\n",
    "- Já trabalhou com a vítima?\n",
    "\n",
    "O programa deve no final emitir uma classificação sobre a participação da pessoa no crime. Se a pessoa responder positivamente a 2 questões ela deve ser classificada como Suspeita, entre 3 e 4 como Cúmplice e 5 como Assassino. Caso contrário,ele será classificado como Inocente."
   ]
  },
  {
   "cell_type": "code",
   "execution_count": 16,
   "metadata": {},
   "outputs": [
    {
     "name": "stdin",
     "output_type": "stream",
     "text": [
      "Telefonou para a vítima? (sim/não):  sim\n",
      "Esteve no local do crime? (sim/não):  não\n",
      "Mora perto da vítima? (sim/não):  não\n",
      "Devia para a vítima? (sim/não):  sim\n",
      "Já trabalhou com a vítima? (sim/não):  não\n"
     ]
    },
    {
     "name": "stdout",
     "output_type": "stream",
     "text": [
      "Suspeita\n"
     ]
    }
   ],
   "source": [
    "pontos = 0\n",
    "perguntas = [\n",
    "    input('Telefonou para a vítima? (sim/não): '),\n",
    "    input('Esteve no local do crime? (sim/não): '),\n",
    "    input('Mora perto da vítima? (sim/não): '),\n",
    "    input('Devia para a vítima? (sim/não): '),\n",
    "    input('Já trabalhou com a vítima? (sim/não): ')\n",
    "]\n",
    "\n",
    "for perguntas in perguntas:\n",
    "    if perguntas == 'sim':\n",
    "        pontos += 1\n",
    "        \n",
    "if pontos == 2:\n",
    "    print('Suspeita')\n",
    "elif pontos >= 3 and pontos <= 4:\n",
    "    print('Cúmplice')\n",
    "elif pontos == 5:\n",
    "    print('Assassino')\n",
    "else:\n",
    "    print('Inocente')\n"
   ]
  },
  {
   "cell_type": "markdown",
   "metadata": {},
   "source": [
    "## 12. Uma fruteira está vendendo frutas com a seguinte tabela de preços: Até 5 Kg Acima de 5 Kg\n",
    "\n",
    "- Morango R$ 2,50 por Kg R$ 2,20 por Kg\n",
    "- Maçã R$ 1,80 por Kg R$ 1,50 por Kg\n",
    "\n",
    "Se o cliente comprar mais de 8 Kg em frutas ou o valor total da compra ultrapassar R$ 25,00, receberá ainda um desconto de 10% sobre este total. Escreva um algoritmo para ler a quantidade (em Kg) de morangos e a quantidade (em Kg) de maças adquiridas e escreva o valor a ser pago pelo cliente."
   ]
  },
  {
   "cell_type": "code",
   "execution_count": 18,
   "metadata": {},
   "outputs": [
    {
     "name": "stdin",
     "output_type": "stream",
     "text": [
      "Insira a quantidade de Kg de morangos:  120\n",
      "Insira a quantidade de Kg de maçãs:  20\n"
     ]
    },
    {
     "name": "stdout",
     "output_type": "stream",
     "text": [
      "Valor a ser pago: R$  264.6\n"
     ]
    }
   ],
   "source": [
    "preco = 0\n",
    "morango = float(input(\"Insira a quantidade de Kg de morangos: \"))\n",
    "maca = float(input(\"Insira a quantidade de Kg de maçãs: \"))\n",
    "\n",
    "if morango < 5:\n",
    "    preco += morango * 2.50\n",
    "else:\n",
    "    preco += morango * 2.20\n",
    "    \n",
    "if maca < 5:\n",
    "    preco += maca * 1.80\n",
    "else:\n",
    "    preco += maca * 1.50\n",
    "    \n",
    "if preco > 25.00:\n",
    "    preco *= 0.90\n",
    "\n",
    "print('Valor a ser pago: R$ ', preco)"
   ]
  },
  {
   "cell_type": "markdown",
   "metadata": {},
   "source": [
    "## Loops\n",
    "\n",
    "## 13. Faça um programa que peça uma nota, entre zero e dez. Mostre uma mensagem caso o valor seja inválido e continue pedindo até que o usuário informe um valor válido."
   ]
  },
  {
   "cell_type": "code",
   "execution_count": 19,
   "metadata": {},
   "outputs": [
    {
     "name": "stdin",
     "output_type": "stream",
     "text": [
      "Insira uma nora entre zero e dez:  199\n"
     ]
    },
    {
     "name": "stdout",
     "output_type": "stream",
     "text": [
      "Valor inválido.\n"
     ]
    },
    {
     "name": "stdin",
     "output_type": "stream",
     "text": [
      "Insira uma nota entre zero e dez:  1\n"
     ]
    },
    {
     "name": "stdout",
     "output_type": "stream",
     "text": [
      "Valor válido.\n"
     ]
    }
   ],
   "source": [
    "nota = int(input(\"Insira uma nota entre zero e dez: \"))\n",
    "while nota < 0 or nota > 10:\n",
    "    print(\"Valor inválido.\")\n",
    "    nota = int(input(\"Insira uma nota entre zero e dez: \"))\n",
    "else:\n",
    "    print(\"Valor válido.\")"
   ]
  },
  {
   "cell_type": "markdown",
   "metadata": {},
   "source": [
    "## 14. Faça um programa que leia e valide as seguintes informações: \n",
    "\n",
    "- Nome: maior que 3 caracteres;\n",
    "\n",
    "- Idade: entre 0 e 150;\n",
    "\n",
    "- Salário: maior que zero;\n",
    "\n",
    "- Sexo: f ou m;\n",
    "\n",
    "- Estado Civil: s, c, v, d;"
   ]
  },
  {
   "cell_type": "code",
   "execution_count": null,
   "metadata": {},
   "outputs": [],
   "source": [
    "nome = input(\"Insira o nome: \")\n",
    "while len(nome) <= 3:\n",
    "    nome = input(\"Insira o nome: \")\n",
    "    \n",
    "idade = int(input(\"Insira a idade: \"))\n",
    "while idade < 0 or idade > 150:\n",
    "    idade = int(input(\"Insira a idade: \"))\n",
    "    \n",
    "salario = int(input(\"Insira o salário: \"))\n",
    "while salario <= 0:\n",
    "    salario = int(input(\"Insira o salário: \"))\n",
    "    \n",
    "sexo = input(\"Insira o sexo: (f / m) \")\n",
    "while not (sexo in ['f', 'm']):\n",
    "    sexo = input(\"Insira o sexo (f / m): \")\n",
    "    \n",
    "estado_civil = input(\"Insira o estado civil: (S / C / V / D)\")\n",
    "while not (estado_civil in ['S', 'C', 'V', 'D']):\n",
    "    estado_civil = input(\"Insira o estado civil: (Solteiro / Casado / Viúvo / Divorciado)\")"
   ]
  },
  {
   "cell_type": "markdown",
   "metadata": {},
   "source": [
    "## 15. Faça um programa que leia 5 números e informe o maior número."
   ]
  },
  {
   "cell_type": "code",
   "execution_count": 1,
   "metadata": {},
   "outputs": [
    {
     "name": "stdin",
     "output_type": "stream",
     "text": [
      "Insira o primeiro número:  10\n",
      "Insira o 2 número:  20\n",
      "Insira o 3 número:  20\n",
      "Insira o 4 número:  10\n",
      "Insira o 5 número:  50\n"
     ]
    },
    {
     "name": "stdout",
     "output_type": "stream",
     "text": [
      "Maior número digitado:  50\n"
     ]
    }
   ],
   "source": [
    "maior_num = int(input(\"Insira o primeiro número: \"))\n",
    "for numero in range(2,6):\n",
    "    z = int(input(f\"Insira o {numero} número: \"))\n",
    "    if z > maior_num:\n",
    "        maior_num = z\n",
    "print(\"Maior número digitado: \", maior_num)"
   ]
  },
  {
   "cell_type": "code",
   "execution_count": null,
   "metadata": {},
   "outputs": [],
   "source": []
  }
 ],
 "metadata": {
  "kernelspec": {
   "display_name": "Python 3",
   "language": "python",
   "name": "python3"
  },
  "language_info": {
   "codemirror_mode": {
    "name": "ipython",
    "version": 3
   },
   "file_extension": ".py",
   "mimetype": "text/x-python",
   "name": "python",
   "nbconvert_exporter": "python",
   "pygments_lexer": "ipython3",
   "version": "3.7.6"
  }
 },
 "nbformat": 4,
 "nbformat_minor": 4
}
