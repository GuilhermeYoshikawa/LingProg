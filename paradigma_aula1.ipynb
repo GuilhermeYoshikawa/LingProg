{
 "cells": [
  {
   "cell_type": "markdown",
   "metadata": {},
   "source": [
    "Guilherme Yoshikawa da Silva\n",
    "\n",
    "RA: 818133945\n",
    "\n",
    "Curso: Ciência da Computação\n",
    "\n",
    "Aula 01 - Exercício Prático 1"
   ]
  },
  {
   "cell_type": "markdown",
   "metadata": {},
   "source": [
    "## 1. Faça um Programa que peça o raio de um círculo, calcule e mostre sua área."
   ]
  },
  {
   "cell_type": "code",
   "execution_count": 1,
   "metadata": {},
   "outputs": [
    {
     "name": "stdin",
     "output_type": "stream",
     "text": [
      "Insira o valor do raio de um círculo:  2\n"
     ]
    },
    {
     "name": "stdout",
     "output_type": "stream",
     "text": [
      "A área do círculo é: 12.56\n"
     ]
    }
   ],
   "source": [
    "raio = float(input('Insira o valor do raio de um círculo: '))\n",
    "area_do_circulo = 3.14 * (raio * raio)\n",
    "print ('A área do círculo é: {:.2f}'.format(area_do_circulo))"
   ]
  },
  {
   "cell_type": "markdown",
   "metadata": {},
   "source": [
    "## 2. Faça um Programa que calcule a área de um quadrado, em seguida mostre o dobro desta área para o usuário."
   ]
  },
  {
   "cell_type": "code",
   "execution_count": 2,
   "metadata": {},
   "outputs": [
    {
     "name": "stdin",
     "output_type": "stream",
     "text": [
      "Insira o valor dos lados do quadrado:  2\n"
     ]
    },
    {
     "name": "stdout",
     "output_type": "stream",
     "text": [
      "A área do quadrado é: 4.00\n",
      "O dobro da área do quadrado é: 8.00\n"
     ]
    }
   ],
   "source": [
    "lado = float(input('Insira o valor dos lados do quadrado: '))\n",
    "area_do_quadrado = lado * lado\n",
    "print ('A área do quadrado é: {:.2f}'.format(area_do_quadrado))\n",
    "dobro_da_area = area_do_quadrado * 2\n",
    "print ('O dobro da área do quadrado é: {:.2f}'.format(dobro_da_area))"
   ]
  },
  {
   "cell_type": "markdown",
   "metadata": {},
   "source": [
    "## 3. Faça um Programa que pergunte quanto você ganha por hora e o número de horas trabalhadas no mês. Calcule e mostre o total do seu salário no referido mês."
   ]
  },
  {
   "cell_type": "code",
   "execution_count": 9,
   "metadata": {},
   "outputs": [
    {
     "name": "stdin",
     "output_type": "stream",
     "text": [
      "Quanto você ganha por hora trabalhada?  7\n"
     ]
    }
   ],
   "source": [
    "ganha_por_hora = float(input('Quanto você ganha por hora trabalhada? '))\n",
    "numero_de_horas = float(input('Insira o número de horas trabalhadas no mês: '))\n",
    "# 22 são os dias úteis de trabalho durante um mês\n",
    "salario_total = ((ganha_por_hora * numero_de_horas) * 22)\n",
    "print ('O seu salário total é de R$ {:.2f}'.format(salario_total))"
   ]
  },
  {
   "cell_type": "markdown",
   "metadata": {},
   "source": [
    "## 4. Faça um Programa que peça a temperatura em graus Farenheit, transforme e mostre a temperatura em graus Celsius. C = (5 * (F-32) / 9)."
   ]
  },
  {
   "cell_type": "code",
   "execution_count": 6,
   "metadata": {},
   "outputs": [
    {
     "name": "stdin",
     "output_type": "stream",
     "text": [
      "Insira a temperatura em graus Farenheit:  50\n"
     ]
    },
    {
     "name": "stdout",
     "output_type": "stream",
     "text": [
      "A temperatura convertida em graus Celsius é de 10.0 C\n"
     ]
    }
   ],
   "source": [
    "f = float(input('Insira a temperatura em graus Farenheit: '))\n",
    "c = (5 * (f - 32) / 9)\n",
    "print ('A temperatura convertida em graus Celsius é de {:.1f}'.format(c) + ' C')"
   ]
  },
  {
   "cell_type": "markdown",
   "metadata": {},
   "source": [
    "## 5. Faça um Programa que peça a temperatura em graus Celsius, transforme e mostre em graus Farenheit."
   ]
  },
  {
   "cell_type": "code",
   "execution_count": 7,
   "metadata": {},
   "outputs": [
    {
     "name": "stdin",
     "output_type": "stream",
     "text": [
      "Insira a temperatura em graus Celsius:  50\n"
     ]
    },
    {
     "name": "stdout",
     "output_type": "stream",
     "text": [
      "A temperatura convertida em graus Farenheit é de 122.0 F\n"
     ]
    }
   ],
   "source": [
    "c = float(input('Insira a temperatura em graus Celsius: '))\n",
    "f = (c * (9 / 5) + 32)\n",
    "print ('A temperatura convertida em graus Farenheit é de {:.1f}'.format(f) + ' F')"
   ]
  },
  {
   "cell_type": "markdown",
   "metadata": {},
   "source": [
    "## 6. Faça um Programa que peça 2 números inteiros e um número real. Calcule e mostre:"
   ]
  },
  {
   "cell_type": "markdown",
   "metadata": {},
   "source": [
    "## o produto do dobro do primeiro com metade do segundo."
   ]
  },
  {
   "cell_type": "code",
   "execution_count": 12,
   "metadata": {},
   "outputs": [
    {
     "name": "stdin",
     "output_type": "stream",
     "text": [
      "Insira um número inteiro:  1\n",
      "Insira outro número inteiro:  2\n",
      "Insira um número real dessa vez:  3.0\n"
     ]
    },
    {
     "name": "stdout",
     "output_type": "stream",
     "text": [
      "O resultado é: 1.00\n"
     ]
    }
   ],
   "source": [
    "int1 = float(input('Insira um número inteiro: '))\n",
    "int2 = float(input('Insira outro número inteiro: '))\n",
    "real1 = float(input('Insira um número real dessa vez: '))\n",
    "exe1 = int1 * (int2 / 2)\n",
    "print ('O resultado é: {:.2f}'.format(exe1))"
   ]
  },
  {
   "cell_type": "markdown",
   "metadata": {},
   "source": [
    "## a soma do triplo do primeiro com o terceiro."
   ]
  },
  {
   "cell_type": "code",
   "execution_count": 13,
   "metadata": {},
   "outputs": [
    {
     "name": "stdin",
     "output_type": "stream",
     "text": [
      "Insira um número inteiro:  2\n",
      "Insira outro número inteiro:  3\n",
      "Insira um número real dessa vez:  2.0\n"
     ]
    },
    {
     "name": "stdout",
     "output_type": "stream",
     "text": [
      "O resultado é: 8.00\n"
     ]
    }
   ],
   "source": [
    "int1 = float(input('Insira um número inteiro: '))\n",
    "int2 = float(input('Insira outro número inteiro: '))\n",
    "real1 = float(input('Insira um número real dessa vez: '))\n",
    "exe2 = (int1 * 3) + real1\n",
    "print ('O resultado é: {:.2f}'.format(exe2))"
   ]
  },
  {
   "cell_type": "markdown",
   "metadata": {},
   "source": [
    "## o terceiro elevado ao cubo."
   ]
  },
  {
   "cell_type": "code",
   "execution_count": 1,
   "metadata": {},
   "outputs": [
    {
     "name": "stdin",
     "output_type": "stream",
     "text": [
      "Insira um número inteiro:  1\n",
      "Insira outro número inteiro:  2\n",
      "Insira um número real dessa vez:  1.0\n"
     ]
    },
    {
     "name": "stdout",
     "output_type": "stream",
     "text": [
      "O resultado é: 1.00\n"
     ]
    }
   ],
   "source": [
    "int1 = float(input('Insira um número inteiro: '))\n",
    "int2 = float(input('Insira outro número inteiro: '))\n",
    "real1 = float(input('Insira um número real dessa vez: '))\n",
    "exe3 = real1 ** 3\n",
    "print ('O resultado é: {:.2f}'.format(exe3))"
   ]
  },
  {
   "cell_type": "markdown",
   "metadata": {},
   "source": [
    "## 7. João Papo-de-Pescador, homem de bem, comprou um microcomputador para controlar o rendimento diário de seu trabalho. Toda vez que ele traz um peso de peixes maior que o estabelecido pelo regulamento de pesca do estado de São Paulo (50 quilos) deve pagar uma multa de R$ 4,00 por quilo excedente. João precisa que você faça um programa que leia a variável peso (peso de peixes) e verifique se há excesso. Se houver, gravar na variável excesso e na variável multa o valor da multa que João deverá pagar. Caso contrário mostrar tais variáveis com o conteúdo ZERO."
   ]
  },
  {
   "cell_type": "code",
   "execution_count": 2,
   "metadata": {},
   "outputs": [
    {
     "name": "stdin",
     "output_type": "stream",
     "text": [
      "Insira a quantidade de quilos do peixe que você pegou: 51\n"
     ]
    },
    {
     "name": "stdout",
     "output_type": "stream",
     "text": [
      "Valor da multa: R$ 4.0\n"
     ]
    }
   ],
   "source": [
    "peso = float(input('Insira a quantidade de quilos do peixe que você pegou:'))\n",
    "if peso > 50:\n",
    "    multa = (peso - 50) * 4\n",
    "    print('Valor da multa: R$', multa)\n",
    "else:\n",
    "    print('Não houve excesso!')"
   ]
  },
  {
   "cell_type": "markdown",
   "metadata": {},
   "source": [
    "## 8. Faça um Programa que pergunte quanto você ganha por hora e o número de horas trabalhadas no mês. Calcule e mostre o total do seu salário no referido mês, sabendo-se que são descontados 11% para o Imposto de Renda, 8% para o INSS e 5% para o sindicato, faça um programa que nos dê:"
   ]
  },
  {
   "cell_type": "code",
   "execution_count": 3,
   "metadata": {},
   "outputs": [
    {
     "name": "stdin",
     "output_type": "stream",
     "text": [
      "Insira quanto você ganha por hora:  6\n",
      "Agora, insira o número de horas trabalhadas no mês:  144\n"
     ]
    }
   ],
   "source": [
    "ganho_por_hora = float(input('Insira quanto você ganha por hora: '))\n",
    "horas_trabalhadas = int(input('Agora, insira o número de horas trabalhadas no mês: '))"
   ]
  },
  {
   "cell_type": "markdown",
   "metadata": {},
   "source": [
    "- Salário bruto."
   ]
  },
  {
   "cell_type": "code",
   "execution_count": 4,
   "metadata": {},
   "outputs": [
    {
     "name": "stdout",
     "output_type": "stream",
     "text": [
      "O total do seu salário é: R$ 864.00\n"
     ]
    }
   ],
   "source": [
    "salario = ganho_por_hora * horas_trabalhadas\n",
    "print('O total do seu salário é: R$ {:.2f}'.format(salario))"
   ]
  },
  {
   "cell_type": "markdown",
   "metadata": {},
   "source": [
    "- Quanto pagou ao INSS."
   ]
  },
  {
   "cell_type": "code",
   "execution_count": 6,
   "metadata": {},
   "outputs": [
    {
     "name": "stdout",
     "output_type": "stream",
     "text": [
      "Foi pago ao INSS = R$ 69.12\n"
     ]
    }
   ],
   "source": [
    "inss = (8/100) * salario\n",
    "print('Foi pago ao INSS = R$ {:.2f}'.format(inss))"
   ]
  },
  {
   "cell_type": "markdown",
   "metadata": {},
   "source": [
    "- Quanto pagou ao Sindicato."
   ]
  },
  {
   "cell_type": "code",
   "execution_count": 8,
   "metadata": {},
   "outputs": [
    {
     "name": "stdout",
     "output_type": "stream",
     "text": [
      "Foi pago ao Sindicato = R$ 43.20\n"
     ]
    }
   ],
   "source": [
    "sindicato = (5/100) * salario\n",
    "print('Foi pago ao Sindicato = R$ {:.2f}'.format(sindicato))"
   ]
  },
  {
   "cell_type": "markdown",
   "metadata": {},
   "source": [
    "- Salário líquido"
   ]
  },
  {
   "cell_type": "code",
   "execution_count": 10,
   "metadata": {},
   "outputs": [
    {
     "name": "stdout",
     "output_type": "stream",
     "text": [
      "O salário liquido é: R$ 656.64\n"
     ]
    }
   ],
   "source": [
    "imposto_de_renda = (11/100) * salario\n",
    "salario_liquido = salario - (inss + sindicato + imposto_de_renda)\n",
    "print('O salário liquido é: R$ {:.2f}'.format(salario_liquido))"
   ]
  },
  {
   "cell_type": "markdown",
   "metadata": {},
   "source": [
    "## Strings\n",
    "## 9. Faça um programa que leia 2 strings e informe o conteúdo delas seguido do seu comprimento. Informe também se as duas strings possuem o mesmo comprimento e são iguais ou diferentes no conteúdo.\n",
    "\n",
    "Exemplo: String 1: Brasil Hexa 2018\n",
    "\n",
    "String 2: Brasil! Hexa 2018!\n",
    "\n",
    "Tamanho de \"Brasil Hexa 2018\": 16 caracteres\n",
    "\n",
    "Tamanho de \"Brasil! Hexa 2018!\": 18 caracteres\n",
    "\n",
    "As duas strings são de tamanhos diferentes.\n",
    "\n",
    "As duas strings possuem conteúdo diferente."
   ]
  },
  {
   "cell_type": "code",
   "execution_count": 14,
   "metadata": {},
   "outputs": [
    {
     "name": "stdin",
     "output_type": "stream",
     "text": [
      "Insira a primeira String:  gui\n",
      "Insira a segunda String:  gui\n"
     ]
    },
    {
     "name": "stdout",
     "output_type": "stream",
     "text": [
      "O tamanho da  gui  =  3\n",
      "O tamanho da  gui  =  3\n",
      "As 2 Strings possuem o mesmo tamanho.\n",
      "As 2 Strings possuem conteúdos iguais.\n"
     ]
    }
   ],
   "source": [
    "string1 = input('Insira a primeira String: ')\n",
    "string2 = input('Insira a segunda String: ')\n",
    "\n",
    "print(\"O tamanho da \", string1,\" = \",len(string1))\n",
    "print(\"O tamanho da \", string2,\" = \",len(string2))\n",
    "\n",
    "if len(string1) == len(string2):\n",
    "    print(\"As 2 Strings possuem o mesmo tamanho.\")\n",
    "else:\n",
    "    print(\"As 2 Strings possuem tamanhos diferentes.\")\n",
    "    \n",
    "if string1.lower() == string2.lower():\n",
    "    print(\"As 2 Strings possuem conteúdos iguais.\")\n",
    "else: \n",
    "    print(\"As 2 Strings possuem conteúdos diferentes.\")"
   ]
  },
  {
   "cell_type": "markdown",
   "metadata": {},
   "source": [
    "## 10. Faça um programa que permita ao usuário digitar o seu nome e em seguida mostre o nome do usuário de trás para frente utilizando somente letras maiúsculas. Dica: lembre−se que ao informar o nome o usuário pode digitar letras maiúsculas ou minúsculas.\n",
    "Observação: não use loops."
   ]
  },
  {
   "cell_type": "code",
   "execution_count": 15,
   "metadata": {},
   "outputs": [
    {
     "name": "stdin",
     "output_type": "stream",
     "text": [
      "Insira seu nome:  Guilherme\n"
     ]
    },
    {
     "name": "stdout",
     "output_type": "stream",
     "text": [
      "Seu nome de trás para frente somente com letras maiúsculas:  EMREHLIUG\n"
     ]
    }
   ],
   "source": [
    "nome = input('Insira seu nome: ')\n",
    "nome = nome.upper()\n",
    "print('Seu nome de trás para frente somente com letras maiúsculas: ', nome[::-1])"
   ]
  },
  {
   "cell_type": "markdown",
   "metadata": {},
   "source": [
    "## 11 Faça um programa que solicite a data de nascimento (dd/mm/aaaa) do usuário e imprima a data com o nome do mês por extenso.\n",
    "\n",
    "Data de Nascimento: 29/10/1973\n",
    "\n",
    "Você nasceu em 29 de Outubro de 1973. Obs.: Não use desvio condicional nem loops."
   ]
  },
  {
   "cell_type": "code",
   "execution_count": 17,
   "metadata": {},
   "outputs": [
    {
     "name": "stdin",
     "output_type": "stream",
     "text": [
      "Insira sua data de nascimento (dd/mm/aaaa):  03/02/2000\n"
     ]
    },
    {
     "name": "stdout",
     "output_type": "stream",
     "text": [
      "Você nasce em:  03/02/2000\n",
      "03 de Fevereiro de 2000\n"
     ]
    }
   ],
   "source": [
    "data_de_nascimento = input(\"Insira sua data de nascimento (dd/mm/aaaa): \")\n",
    "meses = ['Janeiro','Fevereiro','Março','Abril','Maio','Junho','Julho','Agosto','Setembro','Outubro','Novembro','Dezembro']\n",
    "print ('Você nasce em: ',data_de_nascimento)\n",
    "print (data_de_nascimento.split(\"/\")[0],\n",
    "       \"de\",\n",
    "       meses[(int(data_de_nascimento.split(\"/\")[1])-1)],\n",
    "       \"de\",\n",
    "       data_de_nascimento.split(\"/\")[2])"
   ]
  },
  {
   "cell_type": "markdown",
   "metadata": {},
   "source": [
    "## 12. Leet é uma forma de se escrever o alfabeto latino usando outros símbolos em lugar das letras, como números por exemplo. A própria palavra leet admite muitas variações, como l33t ou 1337. O uso do leet reflete uma subcultura relacionada ao mundo dos jogos de computador e internet, sendo muito usada para confundir os iniciantes e afirmar-se como parte de um grupo. Pesquise sobre as principais formas de traduzir as letras. Depois, faça um programa que peça uma texto e transforme-o para a grafia leet speak.\n",
    "Desafio: não use loops nem desvios condicionais."
   ]
  },
  {
   "cell_type": "code",
   "execution_count": 20,
   "metadata": {},
   "outputs": [
    {
     "name": "stdin",
     "output_type": "stream",
     "text": [
      "Insira um texto: boca\n"
     ]
    },
    {
     "name": "stdout",
     "output_type": "stream",
     "text": [
      "O seu texto traduzido na linguagem Leet: \n",
      "13\n",
      "0\n",
      "<\n",
      "4\n"
     ]
    }
   ],
   "source": [
    "leet = {\n",
    "    'A': '4',\n",
    "    'B': '13',\n",
    "    'C': '<',\n",
    "    'D': '[)',\n",
    "    'E': '3',\n",
    "    'F': '|=',\n",
    "    'G': '6',\n",
    "    'H': '#',\n",
    "    'I': '1',\n",
    "    'J': 'u|',\n",
    "    'K': '|<',\n",
    "    'L': '|_',\n",
    "    'M': '^^',\n",
    "    'N': '|V',\n",
    "    'O': '0',\n",
    "    'P': '|D',\n",
    "    'Q': '9',\n",
    "    'R': 'l2',\n",
    "    'S': '5',\n",
    "    'T': '7',\n",
    "    'U': '\\_/',\n",
    "    'V': '\\\\//',\n",
    "    'W': 'vv',\n",
    "    'X': '><',\n",
    "    'Y': '`/',\n",
    "    'Z': '7_'\n",
    "}\n",
    "texto = input('Insira um texto:')\n",
    "print('O seu texto traduzido na linguagem Leet: ')\n",
    "for i in texto.upper():\n",
    "    if i.isalpha():\n",
    "        print(leet[i]),\n",
    "    else:\n",
    "        print(' '),"
   ]
  }
 ],
 "metadata": {
  "kernelspec": {
   "display_name": "Python 3",
   "language": "python",
   "name": "python3"
  },
  "language_info": {
   "codemirror_mode": {
    "name": "ipython",
    "version": 3
   },
   "file_extension": ".py",
   "mimetype": "text/x-python",
   "name": "python",
   "nbconvert_exporter": "python",
   "pygments_lexer": "ipython3",
   "version": "3.7.3"
  }
 },
 "nbformat": 4,
 "nbformat_minor": 4
}
